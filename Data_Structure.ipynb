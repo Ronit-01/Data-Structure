{
  "nbformat": 4,
  "nbformat_minor": 0,
  "metadata": {
    "colab": {
      "provenance": []
    },
    "kernelspec": {
      "name": "python3",
      "display_name": "Python 3"
    },
    "language_info": {
      "name": "python"
    }
  },
  "cells": [
    {
      "cell_type": "markdown",
      "source": [
        "# Data Structure"
      ],
      "metadata": {
        "id": "KJm0GnE8uhYS"
      }
    },
    {
      "cell_type": "markdown",
      "source": [
        "1. What are data structures, and why are they important?\n",
        "\n",
        "  - Data structures organize and store data efficiently for easy access, modification, and processing. They are crucial in computer science and programming as they optimize performance, reduce complexity, and support problem-solving by enabling efficient algorithms for tasks like searching, sorting, and data management.\n",
        "\n",
        "2. Explain the difference between mutable and immutable data types with examples.\n",
        "\n",
        "  - Mutable data types can be modified after creation (e.g., Python lists, dictionaries). Immutable data types cannot be altered after creation (e.g., strings, tuples). Example: Modifying a list works, but changing a string creates a new object.\n",
        "\n",
        "3. What are the main differences between lists and tuples in Python?\n",
        "\n",
        "  - Lists are mutable, allowing modification, while tuples are immutable and cannot be changed after creation. Lists are slower but flexible, whereas tuples are faster and suitable for fixed data storage.\n",
        "\n",
        "4. Describe how dictionaries store data.\n",
        "\n",
        "  - Dictionaries store data as key-value pairs in a hash table. Keys are unique and hashable, enabling fast lookup, while values hold associated data. This structure ensures efficient access and manipulation.\n",
        "\n",
        "5. Why might you use a set instead of a list in Python?\n",
        "\n",
        "  - You might use a set instead of a list in Python for fast membership testing, ensuring unique elements, and performing efficient mathematical operations like unions, intersections, and differences, as sets automatically eliminate duplicates.\n",
        "\n",
        "6. What is a string in Python, and how is it different from a list?\n",
        "\n",
        "  - A string in Python is an immutable sequence of characters used to represent text, while a list is a mutable sequence that can hold various data types. Strings are immutable, whereas lists can be modified after creation.\n",
        "\n",
        "7. How do tuples ensure data integrity in Python?\n",
        "\n",
        "  - Tuples ensure data integrity in Python through immutability, meaning their contents cannot be changed after creation. This prevents accidental modifications, making them ideal for storing constant data or ensuring unaltered data during operations or across program states.\n",
        "\n",
        "8. What is a hash table, and how does it relate to dictionaries in Python?\n",
        "\n",
        "  - A hash table is a data structure that maps keys to values using a hash function for fast data retrieval. In Python, dictionaries are implemented as hash tables, enabling efficient key-based lookups, insertions, and deletions.\n",
        "\n",
        "9. Can lists contain different data types in Python?\n",
        "\n",
        "  - Yes, Python lists can contain elements of different data types, such as integers, strings, floats, or even other lists. This flexibility makes lists versatile for handling heterogeneous collections of data.\n",
        "\n",
        "10. Explain why strings are immutable in Python.\n",
        "\n",
        "  - Strings are immutable in Python to enhance performance, security, and memory efficiency. Immutability allows safe sharing between processes, prevents unintended modifications, and optimizes memory by reusing identical string objects rather than creating new ones repeatedly.\n",
        "\n",
        "11. What advantages do dictionaries offer over lists for certain tasks?\n",
        "\n",
        "  - Dictionaries offer several advantages over lists for tasks that involve fast lookups, retrieval by unique keys, and mapping data efficiently. Unlike lists, which require searching through elements sequentially, dictionaries allow constant-time access to values using keys, making them faster for certain operations like searching and updating.\n",
        "\n",
        "12. Describe a scenario where using a tuple would be preferable over a list.\n",
        "\n",
        "  - A tuple is preferable over a list when you need to store data that should remain constant throughout the program, such as coordinates (x, y, z) or configuration settings. Tuples provide data integrity by being immutable, preventing accidental modifications, which is crucial in scenarios requiring fixed data.\n",
        "\n",
        "13. How do sets handle duplicate values in Python?\n",
        "\n",
        "  - Sets automatically eliminate duplicate values in Python. When you try to add a duplicate element to a set, it simply ignores the addition. This ensures that each element in a set is unique, providing a collection of distinct values.\n",
        "\n",
        "14. How does the “in” keyword work differently for lists and dictionaries?\n",
        "\n",
        "  - In Python, the `\"in\"` keyword works differently for lists and dictionaries:\n",
        "\n",
        "  - For lists, `\"in\"` checks if an element exists in the list by iterating through each item.\n",
        "  - For dictionaries, `\"in\"` checks if a key exists in the dictionary, not the values, and performs a faster lookup using the dictionary's hash table.\n",
        "\n",
        "15. Can you modify the elements of a tuple? Explain why or why not.\n",
        "\n",
        "  - No, you cannot modify the elements of a tuple in Python because tuples are immutable. Once a tuple is created, its contents cannot be changed, which ensures data integrity and prevents accidental modifications. This immutability also improves performance, as Python can optimize memory usage for tuples.\n",
        "\n",
        "16. What is a nested dictionary, and give an example of its use case?\n",
        "\n",
        "  - A nested dictionary is a dictionary where one or more values are themselves dictionaries. This structure allows for hierarchical data representation, such as storing complex information in a structured way.\n",
        "\n",
        "17. Describe the time complexity of accessing elements in a dictionary.\n",
        "\n",
        "  - The time complexity of accessing elements in a dictionary is **O(1)** on average. This is because dictionaries in Python use hash tables, allowing for direct access to values using their keys. However, in rare cases of hash collisions, the time complexity can degrade to **O(n)**, but this is uncommon in practice.\n",
        "\n",
        "18. In what situations are lists preferred over dictionaries?\n",
        "\n",
        "  - Lists are preferred over dictionaries in situations where:\n",
        "\n",
        "   1. **Order matters**: Lists maintain the order of elements, making them ideal when the sequence of items is important.\n",
        "   2. **Indexed access**: When you need to access elements by their position (index), lists are more efficient.\n",
        "   3. **Homogeneous data**: When dealing with a collection of similar items, such as numbers or strings, and you don’t need key-value mapping.\n",
        "   4. **Simple iteration**: Lists are ideal for tasks involving iteration through a sequential collection of items without needing fast lookups or complex data relationships.\n",
        "\n",
        "19. Why are dictionaries considered unordered, and how does that affect data retrieval?\n",
        "\n",
        "  - Dictionaries are considered unordered because, prior to Python 3.7, the insertion order of items was not guaranteed. However, starting with Python 3.7, dictionaries preserve insertion order. Despite this, retrieval is still efficient, as dictionaries access data via keys, not order.\n",
        "\n",
        "20. Explain the difference between a list and a dictionary in terms of data retrieval.\n",
        "\n",
        "  - In a list, data is retrieved using an index, making access sequential and order-dependent. In a dictionary, data is retrieved using a key, allowing for fast, direct access without considering the order of elements."
      ],
      "metadata": {
        "id": "xfLZJ2x3vVU5"
      }
    },
    {
      "cell_type": "markdown",
      "source": [
        "# Practical Questions"
      ],
      "metadata": {
        "id": "3IC1ADRs0RgT"
      }
    },
    {
      "cell_type": "code",
      "source": [
        "# 1. Write a code to create a string with your name and print it.\n",
        "\n",
        "name = \"Ronit\"\n",
        "print(name)\n"
      ],
      "metadata": {
        "colab": {
          "base_uri": "https://localhost:8080/"
        },
        "id": "fcb6c6zAvSeL",
        "outputId": "450d297c-65e6-48f3-f22f-abafede3bc4d"
      },
      "execution_count": 2,
      "outputs": [
        {
          "output_type": "stream",
          "name": "stdout",
          "text": [
            "Ronit\n"
          ]
        }
      ]
    },
    {
      "cell_type": "code",
      "source": [
        "# 2. Write a code to find the length of the string \"Hello World\".\n",
        "\n",
        "text = \"Hello World\"\n",
        "length = len(text)\n",
        "print(length)\n"
      ],
      "metadata": {
        "colab": {
          "base_uri": "https://localhost:8080/"
        },
        "id": "lTBFQP1f0i6m",
        "outputId": "d9b388cc-de7a-4d12-e602-57164e241b79"
      },
      "execution_count": 3,
      "outputs": [
        {
          "output_type": "stream",
          "name": "stdout",
          "text": [
            "11\n"
          ]
        }
      ]
    },
    {
      "cell_type": "code",
      "source": [
        "# 3. Write a code to slice the first 3 characters from the string \"Python Programming\".\n",
        "\n",
        "text = \"Python Programming\"\n",
        "sliced_text = text[:3]\n",
        "print(sliced_text)\n"
      ],
      "metadata": {
        "colab": {
          "base_uri": "https://localhost:8080/"
        },
        "id": "3LRYinKW0-PC",
        "outputId": "8c7b97b0-a02e-4ce3-81d3-dc3e3bbaf7ba"
      },
      "execution_count": 4,
      "outputs": [
        {
          "output_type": "stream",
          "name": "stdout",
          "text": [
            "Pyt\n"
          ]
        }
      ]
    },
    {
      "cell_type": "code",
      "source": [
        "# 4. Write a code to convert the string \"hello\" to uppercase.\n",
        "\n",
        "text = \"hello\"\n",
        "uppercase_text = text.upper()\n",
        "print(uppercase_text)\n"
      ],
      "metadata": {
        "colab": {
          "base_uri": "https://localhost:8080/"
        },
        "id": "RDgGVrqq1Kdx",
        "outputId": "db642a5a-c058-4d98-ed80-99518cea1b00"
      },
      "execution_count": 5,
      "outputs": [
        {
          "output_type": "stream",
          "name": "stdout",
          "text": [
            "HELLO\n"
          ]
        }
      ]
    },
    {
      "cell_type": "code",
      "source": [
        "# 5. Write a code to replace the word \"apple\" with \"orange\" in the string \"I like apple\".\n",
        "\n",
        "text = \"I like apple\"\n",
        "replaced_text = text.replace(\"apple\", \"orange\")\n",
        "print(replaced_text)\n"
      ],
      "metadata": {
        "colab": {
          "base_uri": "https://localhost:8080/"
        },
        "id": "E_Hfc6Fj1ZOP",
        "outputId": "c4287e7a-2b72-4c82-fa5d-e72e37d82ee1"
      },
      "execution_count": 6,
      "outputs": [
        {
          "output_type": "stream",
          "name": "stdout",
          "text": [
            "I like orange\n"
          ]
        }
      ]
    },
    {
      "cell_type": "code",
      "source": [
        "# 6. Write a code to create a list with numbers 1 to 5 and print it.\n",
        "\n",
        "numbers = [1, 2, 3, 4, 5]\n",
        "print(numbers)\n"
      ],
      "metadata": {
        "colab": {
          "base_uri": "https://localhost:8080/"
        },
        "id": "1eBGBPGG1jG7",
        "outputId": "d3424c10-a730-402e-8c78-32bd4c255825"
      },
      "execution_count": 7,
      "outputs": [
        {
          "output_type": "stream",
          "name": "stdout",
          "text": [
            "[1, 2, 3, 4, 5]\n"
          ]
        }
      ]
    },
    {
      "cell_type": "code",
      "source": [
        "# 7. Write a code to append the number 10 to the list [1, 2, 3, 4].\n",
        "\n",
        "numbers = [1, 2, 3, 4]\n",
        "numbers.append(10)\n",
        "print(numbers)\n"
      ],
      "metadata": {
        "colab": {
          "base_uri": "https://localhost:8080/"
        },
        "id": "lttCRWTj1t71",
        "outputId": "2865fdea-c6ec-4273-884a-63ad9c32f865"
      },
      "execution_count": 8,
      "outputs": [
        {
          "output_type": "stream",
          "name": "stdout",
          "text": [
            "[1, 2, 3, 4, 10]\n"
          ]
        }
      ]
    },
    {
      "cell_type": "code",
      "source": [
        "# 8. Write a code to remove the number 3 from the list [1, 2, 3, 4, 5].\n",
        "\n",
        "numbers = [1, 2, 3, 4, 5]\n",
        "numbers.remove(3)\n",
        "print(numbers)\n"
      ],
      "metadata": {
        "colab": {
          "base_uri": "https://localhost:8080/"
        },
        "id": "HaIBZySY14Hb",
        "outputId": "ed2cc323-9215-4664-e017-204fffc8835b"
      },
      "execution_count": 9,
      "outputs": [
        {
          "output_type": "stream",
          "name": "stdout",
          "text": [
            "[1, 2, 4, 5]\n"
          ]
        }
      ]
    },
    {
      "cell_type": "code",
      "source": [
        "# 9. Write a code to access the second element in the list ['a', 'b', 'c', 'd'].\n",
        "\n",
        "letters = ['a', 'b', 'c', 'd']\n",
        "second_element = letters[1]\n",
        "print(second_element)\n"
      ],
      "metadata": {
        "colab": {
          "base_uri": "https://localhost:8080/"
        },
        "id": "bgPwTRdX2BZo",
        "outputId": "0a8663a4-ed3c-4504-b34e-5ec6f08edf28"
      },
      "execution_count": 10,
      "outputs": [
        {
          "output_type": "stream",
          "name": "stdout",
          "text": [
            "b\n"
          ]
        }
      ]
    },
    {
      "cell_type": "code",
      "source": [
        "# 10. Write a code to reverse the list [10, 20, 30, 40, 50].\n",
        "\n",
        "numbers = [10, 20, 30, 40, 50]\n",
        "numbers.reverse()\n",
        "print(numbers)\n"
      ],
      "metadata": {
        "colab": {
          "base_uri": "https://localhost:8080/"
        },
        "id": "wKQywCIZ2Kg4",
        "outputId": "9a27df84-e6b3-4a1e-ae22-78dd111720cb"
      },
      "execution_count": 12,
      "outputs": [
        {
          "output_type": "stream",
          "name": "stdout",
          "text": [
            "[50, 40, 30, 20, 10]\n"
          ]
        }
      ]
    },
    {
      "cell_type": "code",
      "source": [
        "# 11. Write a code to create a tuple with the elements 10, 20, 30 and print it.\n",
        "\n",
        "my_tuple = (10, 20, 30)\n",
        "print(my_tuple)\n"
      ],
      "metadata": {
        "colab": {
          "base_uri": "https://localhost:8080/"
        },
        "id": "2n2NQb6g2VlB",
        "outputId": "f498ed95-1142-4941-be72-817fdd154115"
      },
      "execution_count": 15,
      "outputs": [
        {
          "output_type": "stream",
          "name": "stdout",
          "text": [
            "(10, 20, 30)\n"
          ]
        }
      ]
    },
    {
      "cell_type": "code",
      "source": [
        "# 12. Write a code to access the first element of the tuple ('apple', 'banana', 'cherry').\n",
        "\n",
        "my_tuple = ('apple', 'banana', 'cherry')\n",
        "first_element = my_tuple[0]\n",
        "print(first_element)\n"
      ],
      "metadata": {
        "colab": {
          "base_uri": "https://localhost:8080/"
        },
        "id": "I0pb97PJ2u5f",
        "outputId": "23aad6b5-6a23-4978-eee3-33b309625033"
      },
      "execution_count": 16,
      "outputs": [
        {
          "output_type": "stream",
          "name": "stdout",
          "text": [
            "apple\n"
          ]
        }
      ]
    },
    {
      "cell_type": "code",
      "source": [
        "# 13.  Write a code to count how many times the number 2 appears in the tuple (1, 2, 3, 2, 4, 2).\n",
        "\n",
        "my_tuple = (1, 2, 3, 2, 4, 2)\n",
        "count_of_2 = my_tuple.count(2)\n",
        "print(count_of_2)\n"
      ],
      "metadata": {
        "colab": {
          "base_uri": "https://localhost:8080/"
        },
        "id": "lgzrBzyy28kS",
        "outputId": "f7206b94-a9d7-4bb8-f06e-aede0d96475b"
      },
      "execution_count": 17,
      "outputs": [
        {
          "output_type": "stream",
          "name": "stdout",
          "text": [
            "3\n"
          ]
        }
      ]
    },
    {
      "cell_type": "code",
      "source": [
        "# 14. Write a code to find the index of the element \"cat\" in the tuple ('dog', 'cat', 'rabbit').\n",
        "\n",
        "my_tuple = ('dog', 'cat', 'rabbit')\n",
        "index_of_cat = my_tuple.index('cat')\n",
        "print(index_of_cat)\n"
      ],
      "metadata": {
        "colab": {
          "base_uri": "https://localhost:8080/"
        },
        "id": "9McQIftQ3Gkp",
        "outputId": "c2313a01-f38b-4aa5-9b49-bf30e52b8797"
      },
      "execution_count": 18,
      "outputs": [
        {
          "output_type": "stream",
          "name": "stdout",
          "text": [
            "1\n"
          ]
        }
      ]
    },
    {
      "cell_type": "code",
      "source": [
        "# 15. Write a code to check if the element \"banana\" is in the tuple ('apple', 'orange', 'banana').\n",
        "\n",
        "my_tuple = ('apple', 'orange', 'banana')\n",
        "is_banana_in_tuple = 'banana' in my_tuple\n",
        "print(is_banana_in_tuple)\n"
      ],
      "metadata": {
        "colab": {
          "base_uri": "https://localhost:8080/"
        },
        "id": "FvOSH7ZR3Q16",
        "outputId": "10760d84-f7c7-46e3-a1b8-dd9cca9213f7"
      },
      "execution_count": 19,
      "outputs": [
        {
          "output_type": "stream",
          "name": "stdout",
          "text": [
            "True\n"
          ]
        }
      ]
    },
    {
      "cell_type": "code",
      "source": [
        "# 16.  Write a code to create a set with the elements 1, 2, 3, 4, 5 and print it.\n",
        "\n",
        "my_set = {1, 2, 3, 4, 5}\n",
        "print(my_set)\n"
      ],
      "metadata": {
        "colab": {
          "base_uri": "https://localhost:8080/"
        },
        "id": "PxVOrZGc3cqR",
        "outputId": "f4e104e7-0f5d-4ed7-97f3-f02e8507db88"
      },
      "execution_count": 20,
      "outputs": [
        {
          "output_type": "stream",
          "name": "stdout",
          "text": [
            "{1, 2, 3, 4, 5}\n"
          ]
        }
      ]
    },
    {
      "cell_type": "code",
      "source": [
        "# 17. Write a code to add the element 6 to the set {1, 2, 3, 4}.\n",
        "\n",
        "my_set = {1, 2, 3, 4}\n",
        "my_set.add(6)\n",
        "print(my_set)\n"
      ],
      "metadata": {
        "colab": {
          "base_uri": "https://localhost:8080/"
        },
        "id": "1byqhbsO3see",
        "outputId": "23d2e1d9-bfbc-48f4-cc9c-c37831835c56"
      },
      "execution_count": 21,
      "outputs": [
        {
          "output_type": "stream",
          "name": "stdout",
          "text": [
            "{1, 2, 3, 4, 6}\n"
          ]
        }
      ]
    },
    {
      "cell_type": "code",
      "source": [
        "# 18. Write a code to create a tuple with the elements 10, 20, 30 and print it.\n",
        "\n",
        "my_tuple = (10, 20, 30)\n",
        "print(my_tuple)\n"
      ],
      "metadata": {
        "colab": {
          "base_uri": "https://localhost:8080/"
        },
        "id": "0sJzcjc13yOA",
        "outputId": "0f63a70e-a025-4c4e-f72a-4b0372b87440"
      },
      "execution_count": 23,
      "outputs": [
        {
          "output_type": "stream",
          "name": "stdout",
          "text": [
            "(10, 20, 30)\n"
          ]
        }
      ]
    },
    {
      "cell_type": "code",
      "source": [
        "# 19. Write a code to access the first element of the tuple ('apple', 'banana', 'cherry').\n",
        "\n",
        "my_tuple = ('apple', 'banana', 'cherry')\n",
        "first_element = my_tuple[0]\n",
        "print(first_element)\n"
      ],
      "metadata": {
        "colab": {
          "base_uri": "https://localhost:8080/"
        },
        "id": "gIlFwTLm34C8",
        "outputId": "8e2b39fa-0199-4df1-bd8e-f69f2708d18e"
      },
      "execution_count": 25,
      "outputs": [
        {
          "output_type": "stream",
          "name": "stdout",
          "text": [
            "apple\n"
          ]
        }
      ]
    },
    {
      "cell_type": "code",
      "source": [
        "# 20. Write a code to count how many times the number 2 appears in the tuple (1, 2, 3, 2, 4, 2).\n",
        "\n",
        "my_tuple = (1, 2, 3, 2, 4, 2)\n",
        "count_of_2 = my_tuple.count(2)\n",
        "print(count_of_2)\n"
      ],
      "metadata": {
        "colab": {
          "base_uri": "https://localhost:8080/"
        },
        "id": "Tr2FXg1D4ELt",
        "outputId": "d5e723db-a4bc-4398-fec4-0987ba9ee894"
      },
      "execution_count": 27,
      "outputs": [
        {
          "output_type": "stream",
          "name": "stdout",
          "text": [
            "3\n"
          ]
        }
      ]
    },
    {
      "cell_type": "code",
      "source": [
        "# 21. Write a code to find the index of the element \"cat\" in the tuple ('dog', 'cat', 'rabbit').\n",
        "\n",
        "my_tuple = ('dog', 'cat', 'rabbit')\n",
        "index_of_cat = my_tuple.index('cat')\n",
        "print(index_of_cat)"
      ],
      "metadata": {
        "colab": {
          "base_uri": "https://localhost:8080/"
        },
        "id": "tscGb9IK4QgB",
        "outputId": "eb8e344e-08e3-404a-978a-79324611db94"
      },
      "execution_count": 28,
      "outputs": [
        {
          "output_type": "stream",
          "name": "stdout",
          "text": [
            "1\n"
          ]
        }
      ]
    },
    {
      "cell_type": "code",
      "source": [
        "# 22. Write a code to check if the element \"banana\" is in the tuple ('apple', 'orange', 'banana').\n",
        "\n",
        "my_tuple = ('apple', 'orange', 'banana')\n",
        "is_banana_in_tuple = 'banana' in my_tuple\n",
        "print(is_banana_in_tuple)"
      ],
      "metadata": {
        "colab": {
          "base_uri": "https://localhost:8080/"
        },
        "id": "oh8gbqdl4cGk",
        "outputId": "62b7db26-4cae-4a36-916d-93416c61cabc"
      },
      "execution_count": 29,
      "outputs": [
        {
          "output_type": "stream",
          "name": "stdout",
          "text": [
            "True\n"
          ]
        }
      ]
    },
    {
      "cell_type": "code",
      "source": [
        "# 23. Write a code to create a set with the elements 1, 2, 3, 4, 5 and print it.\n",
        "\n",
        "my_set = {1, 2, 3, 4, 5}\n",
        "print(my_set)"
      ],
      "metadata": {
        "colab": {
          "base_uri": "https://localhost:8080/"
        },
        "id": "0p2-tMCO4iIa",
        "outputId": "80339ebc-4c74-4a51-9d81-b2d6412138d7"
      },
      "execution_count": 30,
      "outputs": [
        {
          "output_type": "stream",
          "name": "stdout",
          "text": [
            "{1, 2, 3, 4, 5}\n"
          ]
        }
      ]
    },
    {
      "cell_type": "code",
      "source": [
        "# 24. Write a code to add the element 6 to the set {1, 2, 3, 4}.\n",
        "\n",
        "my_set = {1, 2, 3, 4}\n",
        "my_set.add(6)\n",
        "print(my_set)"
      ],
      "metadata": {
        "colab": {
          "base_uri": "https://localhost:8080/"
        },
        "id": "D8T3o4xh4l1F",
        "outputId": "1f64402f-2fb2-499e-eec9-2b2cecfac86b"
      },
      "execution_count": 31,
      "outputs": [
        {
          "output_type": "stream",
          "name": "stdout",
          "text": [
            "{1, 2, 3, 4, 6}\n"
          ]
        }
      ]
    }
  ]
}